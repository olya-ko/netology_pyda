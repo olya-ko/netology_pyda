{
 "cells": [
  {
   "cell_type": "code",
   "execution_count": 2,
   "metadata": {},
   "outputs": [],
   "source": [
    "import numpy as np\n",
    "from datetime import datetime\n",
    "import math as math"
   ]
  },
  {
   "cell_type": "code",
   "execution_count": 4,
   "metadata": {},
   "outputs": [
    {
     "data": {
      "text/plain": [
       "True"
      ]
     },
     "execution_count": 4,
     "metadata": {},
     "output_type": "execute_result"
    }
   ],
   "source": [
    "# Задание 1\n",
    "\n",
    "long_phrase = 'Насколько проще было бы писать программы, если бы не заказчики'\n",
    "short_phrase = '640Кб должно хватить для любых задач. Билл Гейтс (по легенде)'\n",
    "\n",
    "def phrase_len_comp(long_phrase, short_phrase):\n",
    "    if len(long_phrase) > len(short_phrase):\n",
    "        return True\n",
    "    else: return False\n",
    "    \n",
    "phrase_len_comp(long_phrase, short_phrase)"
   ]
  },
  {
   "cell_type": "code",
   "execution_count": 7,
   "metadata": {},
   "outputs": [
    {
     "name": "stdout",
     "output_type": "stream",
     "text": [
      "Объём файла равен 10.46MB\n"
     ]
    }
   ],
   "source": [
    "# Задание 2\n",
    "\n",
    "file_bites = 10456702\n",
    "file_mbites = round(file_bites/1000000, 2)\n",
    "answer_phrase = 'Объём файла равен ' + str(file_mbites) + 'MB'\n",
    "\n",
    "print(answer_phrase)"
   ]
  },
  {
   "cell_type": "code",
   "execution_count": 28,
   "metadata": {},
   "outputs": [
    {
     "name": "stdout",
     "output_type": "stream",
     "text": [
      "Введите месяц: май\n",
      "Введите число: 29\n",
      "Близнецы\n"
     ]
    }
   ],
   "source": [
    "# Задание 3\n",
    "\n",
    "def str2date(x):\n",
    "    return datetime.strptime(x, '%Y-%m-%d')\n",
    "\n",
    "month_word = input('Введите месяц: ')\n",
    "day = input('Введите число: ')\n",
    "\n",
    "#переводим месяц в число\n",
    "if month_word == 'январь':\n",
    "    month = 1\n",
    "elif month_word == 'февраль':\n",
    "    month = 2\n",
    "elif month_word == 'март':\n",
    "    month = 3\n",
    "elif month_word == 'апрель':\n",
    "    month = 4\n",
    "elif month_word == 'май':\n",
    "    month = 5\n",
    "elif month_word == 'июнь':\n",
    "    month = 6\n",
    "elif month_word == 'июль':\n",
    "    month = 7\n",
    "elif month_word == 'август':\n",
    "    month = 8\n",
    "elif month_word == 'сентябрь':\n",
    "    month = 9\n",
    "elif month_word == 'октябрь':\n",
    "    month = 10\n",
    "elif month_word == 'ноябрь':\n",
    "    month = 11\n",
    "elif month_word == 'декабрь':\n",
    "    month = 12\n",
    "\n",
    "#получаем из введённых данных дату рождения в формате даты\n",
    "\n",
    "if len(str(month))==2 and len(str(day))==2:\n",
    "    birthday = '2019-' + str(month) + '-' + str(day)\n",
    "elif len(str(month))==1 and len(str(day))==2:\n",
    "    birthday = '2019-' + '0' + str(month) + '-' + str(day)\n",
    "elif len(str(month))==2 and len(str(day))==1:\n",
    "    birthday = '2019-' + str(month) + '-' + '0' + str(day)\n",
    "elif len(str(month))==1 and len(str(day))==1:\n",
    "    birthday = '2019-' + '0' + str(month) + '-' + '0' + str(day)\n",
    "\n",
    "birthday = str2date(birthday)\n",
    "\n",
    "\n",
    "if birthday >= str2date('2019-03-21') and birthday <= str2date('2019-04-20'):\n",
    "    print('Овен')\n",
    "elif birthday >= str2date('2019-04-21') and birthday <= str2date('2019-05-20'):\n",
    "    print('Телец')\n",
    "elif birthday >= str2date('2019-05-21') and birthday <= str2date('2019-06-21'):\n",
    "    print('Близнецы')\n",
    "elif birthday >= str2date('2019-06-22') and birthday <= str2date('2019-07-22'):\n",
    "    print('Рак')\n",
    "elif birthday >= str2date('2019-07-23') and birthday <= str2date('2019-08-22'):\n",
    "    print('Лев')\n",
    "elif birthday >= str2date('2019-08-23') and birthday <= str2date('2019-09-23'):\n",
    "    print('Дева')\n",
    "elif birthday >= str2date('2019-09-24') and birthday <= str2date('2019-10-23'):\n",
    "    print('Весы')\n",
    "elif birthday >= str2date('2019-10-24') and birthday <= str2date('2019-11-22'):\n",
    "    print('Скорпион')\n",
    "elif birthday >= str2date('2019-11-23') and birthday <= str2date('2019-12-21'):\n",
    "    print('Стрелец')\n",
    "elif (birthday >= str2date('2019-12-21') and birthday <= str2date('2019-12-31')) or (birthday >= str2date('2019-01-01') and birthday <= str2date('2019-01-20')):\n",
    "    print('Козерог')\n",
    "elif birthday >= str2date('2019-01-21') and birthday <= str2date('2019-02-18'):\n",
    "    print('Водолей')\n",
    "elif birthday >= str2date('2019-02-19') and birthday <= str2date('2019-03-20'):\n",
    "    print('Рыбы')"
   ]
  },
  {
   "cell_type": "code",
   "execution_count": 3,
   "metadata": {},
   "outputs": [
    {
     "name": "stdout",
     "output_type": "stream",
     "text": [
      "Введите заработанную плату в месяц: 100000\n",
      "Введите сколько процентов уходит на ипотеку: 30\n",
      "Введите сколько процентов уходит на жизнь: 50\n",
      "Введите количество премий за год: 2\n",
      "На ипотеку было потрачено: 360000 рублей\n",
      "Было накоплено: 340000 рублей\n"
     ]
    }
   ],
   "source": [
    "# Задание 4\n",
    "        \n",
    "salary = int(input('Введите заработанную плату в месяц: '))\n",
    "mortgage_share = int(input('Введите сколько процентов уходит на ипотеку: '))\n",
    "spends_share = int(input('Введите сколько процентов уходит на жизнь: '))\n",
    "perks_per_year = int(input('Введите количество премий за год: '))\n",
    "\n",
    "mortgage_year_sum = math.ceil(12*mortgage_share*salary/100)\n",
    "pension_kept = math.ceil(12*(100 - mortgage_share - spends_share)*salary/100 + salary*perks_per_year/2)\n",
    "\n",
    "print('На ипотеку было потрачено: ' + str(mortgage_year_sum) + ' рублей')\n",
    "print('Было накоплено: ' + str(pension_kept) + ' рублей')"
   ]
  }
 ],
 "metadata": {
  "kernelspec": {
   "display_name": "Python 3",
   "language": "python",
   "name": "python3"
  },
  "language_info": {
   "codemirror_mode": {
    "name": "ipython",
    "version": 3
   },
   "file_extension": ".py",
   "mimetype": "text/x-python",
   "name": "python",
   "nbconvert_exporter": "python",
   "pygments_lexer": "ipython3",
   "version": "3.7.4"
  }
 },
 "nbformat": 4,
 "nbformat_minor": 2
}
