{
 "cells": [
  {
   "cell_type": "markdown",
   "metadata": {},
   "source": [
    "## Задание 1"
   ]
  },
  {
   "cell_type": "markdown",
   "metadata": {},
   "source": [
    "Дан список вида:"
   ]
  },
  {
   "cell_type": "code",
   "execution_count": 1,
   "metadata": {},
   "outputs": [],
   "source": [
    "data = [\n",
    "    [13, 25, 23, 34],\n",
    "    [45, 32, 44, 47],\n",
    "    [12, 33, 23, 95],\n",
    "    [13, 53, 34, 35]\n",
    "]"
   ]
  },
  {
   "cell_type": "markdown",
   "metadata": {},
   "source": [
    "Напишите функцию, которая возвращает сумму элементов на диагонали. Т. е. 13+32+23+35.  \n",
    "Список может быть любой длины, но всегда является \"квадратным\" (количество элементов во вложенных списках равно их количеству)."
   ]
  },
  {
   "cell_type": "code",
   "execution_count": 2,
   "metadata": {},
   "outputs": [
    {
     "name": "stdout",
     "output_type": "stream",
     "text": [
      "103\n"
     ]
    }
   ],
   "source": [
    "def dia_sum(list):\n",
    "    counter = 0\n",
    "    for index1 in range(len(list)):\n",
    "        for index2 in range(len(list[index1])):\n",
    "            if index1 == index2:\n",
    "                counter = counter + list[index1][index2]\n",
    "    return counter\n",
    "                \n",
    "print(dia_sum(data))         "
   ]
  },
  {
   "cell_type": "markdown",
   "metadata": {},
   "source": [
    "## Задание 2"
   ]
  },
  {
   "cell_type": "markdown",
   "metadata": {},
   "source": [
    "Напишите функцию, возвращающую сумму первых n чисел Фибоначчи (для этого вам может понадобится ознакомиться с рекурсией)."
   ]
  },
  {
   "cell_type": "code",
   "execution_count": 15,
   "metadata": {},
   "outputs": [
    {
     "name": "stdout",
     "output_type": "stream",
     "text": [
      "Сколько первых чисел Фибоначчи просуммировать? 8\n",
      "Сумма первых 8 чисел Фибоначчи равна 87\n"
     ]
    }
   ],
   "source": [
    "def fib_sum(n):\n",
    "    a = []\n",
    "    a.append(1)\n",
    "    a.append(1)\n",
    "    for index in range(2,n+1):\n",
    "        a.append(a[index-1] + a[index-2])\n",
    "    return sum(a)-1\n",
    "\n",
    "n = int(input('Сколько первых чисел Фибоначчи просуммировать? '))\n",
    "print('Сумма первых ' + str(n) + ' чисел Фибоначчи равна ' + str(fib_sum(n)))"
   ]
  },
  {
   "cell_type": "markdown",
   "metadata": {},
   "source": [
    "## Задание 3\n"
   ]
  },
  {
   "cell_type": "markdown",
   "metadata": {},
   "source": [
    "Напишите функцию, преобразующую произвольный список вида ['2018-01-01', 'yandex', 'cpc', 100] (он может быть любой длины) в словарь {'2018-01-01': {'yandex': {'cpc': 100}}}"
   ]
  },
  {
   "cell_type": "code",
   "execution_count": 60,
   "metadata": {},
   "outputs": [
    {
     "name": "stdout",
     "output_type": "stream",
     "text": [
      "{'2018-01-01': {'yandex': {'cpc': 100}}}\n"
     ]
    }
   ],
   "source": [
    "raw_list =  ['2018-01-01', 'yandex', 'cpc', 100]\n",
    "\n",
    "def list_dictionizer(random_list):\n",
    "    dictionary = {random_list[len(random_list)-2]: random_list[len(random_list)-1]}\n",
    "    for index in reversed(range(0,len(random_list)-2)):\n",
    "        dictionary = {random_list[index]: dictionary}        \n",
    "    return dictionary\n",
    "\n",
    "print(list_dictionizer(raw_list))"
   ]
  },
  {
   "cell_type": "markdown",
   "metadata": {},
   "source": [
    "## Задание 4"
   ]
  },
  {
   "cell_type": "markdown",
   "metadata": {},
   "source": [
    "Вы работаете секретарем и вам постоянно приходят различные документы. Вы должны быть очень внимательны, чтобы не потерять ни один документ. Каталог документов хранится в следующем виде:"
   ]
  },
  {
   "cell_type": "code",
   "execution_count": 46,
   "metadata": {},
   "outputs": [],
   "source": [
    "documents = [\n",
    "    {'type': 'passport', 'number': '2207 876234', 'name': 'Василий Гупкин'},\n",
    "    {'type': 'invoice', 'number': '11-2', 'name': 'Геннадий Покемонов'},\n",
    "    {'type': 'insurance', 'number': '10006', 'name': 'Аристарх Павлов'}\n",
    "]"
   ]
  },
  {
   "cell_type": "markdown",
   "metadata": {},
   "source": [
    "Перечень полок, на которых находятся документы хранится в следующем виде:"
   ]
  },
  {
   "cell_type": "code",
   "execution_count": 47,
   "metadata": {},
   "outputs": [],
   "source": [
    "directories = {\n",
    "    '1': ['2207 876234', '11-2', '5455 028765'],\n",
    "    '2': ['10006', '5400 028765', '5455 002299'],\n",
    "    '3': []\n",
    "}"
   ]
  },
  {
   "cell_type": "code",
   "execution_count": 48,
   "metadata": {},
   "outputs": [],
   "source": [
    "def get_person_name():\n",
    "    \n",
    "    doc_number = input('Введите номер документа: ')\n",
    "    non_errors = 0\n",
    "    \n",
    "    for document in documents:\n",
    "        if doc_number == document['number']:\n",
    "            non_errors = non_errors + 1\n",
    "            print(document['name'])\n",
    "    \n",
    "    if non_errors == 0:\n",
    "        print('Такого документа не существует. Невозможно определить имя человека')"
   ]
  },
  {
   "cell_type": "code",
   "execution_count": 61,
   "metadata": {},
   "outputs": [],
   "source": [
    "def get_shelf_number():\n",
    "    \n",
    "    doc_number = input('Введите номер документа: ')\n",
    "    non_errors = 0\n",
    "    \n",
    "    for key,value in directories.items():\n",
    "        for index in range(len(directories[key])):\n",
    "            if doc_number == directories[key][index]:\n",
    "                non_errors = non_errors + 1\n",
    "                print('Документ лежит на полке ' + key)\n",
    "                \n",
    "    if non_errors == 0:\n",
    "        print('Такого документа не существует. Невозможно определить номер полки')"
   ]
  },
  {
   "cell_type": "code",
   "execution_count": 50,
   "metadata": {},
   "outputs": [],
   "source": [
    "def get_doc_list():\n",
    "    \n",
    "    for element in documents:\n",
    "        print(element['type'] + ' \"' + element['number'] + '\" \"' + element['name'] + '\"')"
   ]
  },
  {
   "cell_type": "code",
   "execution_count": 51,
   "metadata": {},
   "outputs": [],
   "source": [
    "def add_new_shelf():\n",
    "    \n",
    "    shelf_number = input('Введите номер новой полки: ')\n",
    "    errors = 0\n",
    "    \n",
    "    for key in directories.keys():\n",
    "        if key == shelf_number: \n",
    "            errors = errors + 1\n",
    "            \n",
    "    if errors == 0:\n",
    "        directories[shelf_number] = []\n",
    "        print('Новая полка добавлена')\n",
    "    else: print('Полка с таким номером уже существует')"
   ]
  },
  {
   "cell_type": "code",
   "execution_count": 52,
   "metadata": {},
   "outputs": [],
   "source": [
    "def del_doc():\n",
    "    \n",
    "    doc_number = input('Введите номер документа для удаления: ')\n",
    "    non_errors = 0\n",
    "    index_to_del = -1\n",
    "    \n",
    "    for index in range(len(documents)):\n",
    "        if documents[index]['number'] == doc_number:\n",
    "            non_errors = non_errors + 1\n",
    "            index_to_del = index\n",
    "    \n",
    "    if non_errors != 0:\n",
    "        del documents[index_to_del]\n",
    "        for key,value in directories.items():\n",
    "            for index in range(len(directories[key])):\n",
    "                if doc_number == directories[key][index]:\n",
    "                    shelf_key = key\n",
    "        directories[shelf_key].remove(doc_number)\n",
    "        print('Удаление документа прошло успешно')\n",
    "    else: print('Такого документа не существует. Удалять нечего')"
   ]
  },
  {
   "cell_type": "code",
   "execution_count": 53,
   "metadata": {},
   "outputs": [],
   "source": [
    "def change_doc_shelf():\n",
    "    \n",
    "    doc_to_move = input('Введите номер документа, который хотите переложить: ')\n",
    "    shelf_to_place = input('Введите номер полки, куда хотите положить документ: ')\n",
    "    non_errors = 0\n",
    "    \n",
    "    for index in range(len(documents)):\n",
    "        if documents[index]['number'] == doc_to_move:\n",
    "            non_errors = non_errors + 1\n",
    "            index_to_move = index\n",
    "    \n",
    "    for shelf in directories.keys():\n",
    "        if shelf == shelf_to_place: \n",
    "            non_errors = non_errors + 2\n",
    "            \n",
    "    if non_errors == 3:\n",
    "        for key,value in directories.items():\n",
    "            for index in range(len(directories[key])):\n",
    "                if doc_to_move == directories[key][index]:\n",
    "                    shelf_key = key\n",
    "        directories[shelf_key].remove(doc_to_move)\n",
    "        directories[shelf_to_place].append(doc_to_move)\n",
    "        print('Документ успешно перемещён')\n",
    "    elif non_errors == 0 or non_errors == 1:\n",
    "        print('Полки не существует, выберите другую полку')\n",
    "    elif non_errors == 2:\n",
    "        print('Такого документа не существует. Нечего перемещать')"
   ]
  },
  {
   "cell_type": "code",
   "execution_count": 54,
   "metadata": {},
   "outputs": [],
   "source": [
    "def add_new_doc():\n",
    "    doc_number = input('Введите номер нового документа: ')\n",
    "    errors = 0\n",
    "    \n",
    "    for document in documents:\n",
    "        if doc_number == document['number']:\n",
    "            errors = errors + 1\n",
    "            \n",
    "    if errors != 0:\n",
    "        print('Документ с таким номером уже существует')\n",
    "    elif errors == 0:\n",
    "        doc_type = input('Введите тип документа: ')\n",
    "        doc_holder_name = input('Введите имя владельца документа: ')\n",
    "        shelf_to_add = input('Введите номер полки для хранения документа: ')\n",
    "        \n",
    "        for shelf in directories.keys():\n",
    "            if shelf == shelf_to_add: \n",
    "                errors = errors + 1\n",
    "                \n",
    "        if errors == 0:\n",
    "            print('Такой полки не существует. Добавьте новую полку или выберете другую')\n",
    "        elif errors != 0:\n",
    "            documents.append(dict(type = doc_type, number = doc_number, name = doc_holder_name))\n",
    "            directories[shelf_to_add].append(doc_number)"
   ]
  },
  {
   "cell_type": "code",
   "execution_count": 68,
   "metadata": {},
   "outputs": [
    {
     "name": "stdout",
     "output_type": "stream",
     "text": [
      "Командуйте: a\n",
      "Введите номер нового документа: 234\n",
      "Введите тип документа: passport\n",
      "Введите имя владельца документа: Olga K\n",
      "Введите номер полки для хранения документа: 3\n"
     ]
    }
   ],
   "source": [
    "command_dict = { 'p': 'people – команда, которая спросит номер документа и выведет имя человека, которому он принадлежит',\n",
    "                 's': 'shelf – команда, которая спросит номер документа и выведет номер полки, на которой он находится',\n",
    "                 'l': 'list – команда, которая выведет список всех документов',\n",
    "                 'as': 'add shelf – команда, которая спросит номер новой полки и добавит ее в перечень',\n",
    "                 'd': 'delete – команда, которая спросит номер документа и удалит его из каталога и из перечня полок',\n",
    "                 'm': 'move – команда, которая спросит номер документа и целевую полку и переместит его с текущей полки на целевую',\n",
    "                 'a': 'add – команда, которая добавит новый документ в каталог и в перечень полок, спросив его номер, тип, имя владельца и номер полки, на котором он будет храниться'\n",
    "               }\n",
    "\n",
    "command = input('Командуйте: ')\n",
    "\n",
    "if command == 'p':\n",
    "    get_person_name()\n",
    "elif command == 's':\n",
    "    get_shelf_number()\n",
    "elif command == 'l':\n",
    "    get_doc_list()\n",
    "elif command == 'as':\n",
    "    add_new_shelf()\n",
    "elif command == 'd':\n",
    "    del_doc()\n",
    "elif command == 'm':\n",
    "    change_doc_shelf()\n",
    "elif command == 'a':\n",
    "    add_new_doc()\n",
    "else: \n",
    "    print('Такой команды не существует, ознакомьтесь со списком доступных команд:')\n",
    "    for key, value in command_dict.items():\n",
    "        print(key + ' — ' + value)"
   ]
  },
  {
   "cell_type": "code",
   "execution_count": 69,
   "metadata": {},
   "outputs": [
    {
     "name": "stdout",
     "output_type": "stream",
     "text": [
      "[{'type': 'passport', 'number': '2207 876234', 'name': 'Василий Гупкин'}, {'type': 'insurance', 'number': '10006', 'name': 'Аристарх Павлов'}, {'type': 'passport', 'number': '234', 'name': 'Olga K'}]\n",
      "{'1': ['2207 876234', '5455 028765', '10006'], '2': ['5400 028765', '5455 002299'], '3': ['234']}\n"
     ]
    }
   ],
   "source": [
    "print(documents)\n",
    "print(directories)"
   ]
  },
  {
   "cell_type": "markdown",
   "metadata": {},
   "source": [
    "Необходимо реализовать пользовательские команды (внимание! это не название функций, которые должны быть выразительными, а команды, которые вводит пользователь, чтобы получить необходимый результат):\n",
    "  \n",
    "- p – people – команда, которая спросит номер документа и выведет имя человека, которому он принадлежит;  \n",
    "- s – shelf – команда, которая спросит номер документа и выведет номер полки, на которой он находится  \n",
    "Правильно обработайте ситуацию, когда пользователь будет вводить несуществующий документ.\n",
    "- l – list – команда, которая выведет список всех документов в формате   \n",
    "**passport \"2207 876234\" \"Василий Гупкин\"**  \n",
    "- as – add shelf – команда, которая спросит номер новой полки и добавит ее в перечень\n",
    "- d – delete – команда, которая спросит номер документа и удалит его из каталога и из перечня полок. Предусмотрите сценарий, когда пользователь вводит несуществующий документ;  \n",
    "- m – move – команда, которая спросит номер документа и целевую полку и переместит его с текущей полки на целевую. Корректно обработайте кейсы, когда пользователь пытается переместить несуществующий документ или переместить документ на несуществующую полку;  \n",
    "- a – add – команда, которая добавит новый документ в каталог и в перечень полок, спросив его номер, тип, имя владельца и номер полки, на котором он будет храниться."
   ]
  }
 ],
 "metadata": {
  "kernelspec": {
   "display_name": "Python 3",
   "language": "python",
   "name": "python3"
  },
  "language_info": {
   "codemirror_mode": {
    "name": "ipython",
    "version": 3
   },
   "file_extension": ".py",
   "mimetype": "text/x-python",
   "name": "python",
   "nbconvert_exporter": "python",
   "pygments_lexer": "ipython3",
   "version": "3.7.4"
  }
 },
 "nbformat": 4,
 "nbformat_minor": 2
}
